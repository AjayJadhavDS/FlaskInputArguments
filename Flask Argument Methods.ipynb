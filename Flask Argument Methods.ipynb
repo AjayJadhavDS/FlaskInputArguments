{
 "cells": [
  {
   "cell_type": "code",
   "execution_count": null,
   "metadata": {},
   "outputs": [
    {
     "name": "stdout",
     "output_type": "stream",
     "text": [
      " * Serving Flask app \"__main__\" (lazy loading)\n",
      " * Environment: production\n",
      "   WARNING: This is a development server. Do not use it in a production deployment.\n",
      "   Use a production WSGI server instead.\n",
      " * Debug mode: off\n"
     ]
    },
    {
     "name": "stderr",
     "output_type": "stream",
     "text": [
      " * Running on http://127.0.0.1:5000/ (Press CTRL+C to quit)\n",
      "127.0.0.1 - - [25/Dec/2019 14:44:56] \"\u001b[37mGET / HTTP/1.1\u001b[0m\" 200 -\n",
      "127.0.0.1 - - [25/Dec/2019 14:45:31] \"\u001b[37mGET /query-example?language=Python&framework=Flask HTTP/1.1\u001b[0m\" 200 -\n",
      "127.0.0.1 - - [25/Dec/2019 14:45:37] \"\u001b[37mGET /query-example?language=P&framework=Flask HTTP/1.1\u001b[0m\" 200 -\n"
     ]
    }
   ],
   "source": [
    "from flask import Flask, request #import main Flask class and request object\n",
    "\n",
    "app = Flask(__name__) #create the Flask app\n",
    "\n",
    "@app.route('/')\n",
    "def Hello():\n",
    "    return 'Hello Ajay'\n",
    "\n",
    "@app.route('/query-example')\n",
    "def query_example():\n",
    "    language = request.args.get('language') #if key doesn't exist, returns None\n",
    "    framework = request.args['framework'] #if key doesn't exist, returns a 400, bad request error\n",
    "    website = request.args.get('website')\n",
    "\n",
    "    return '''<h1>The language value is: {}</h1>\n",
    "              <h1>The framework value is: {}</h1>\n",
    "              <h1>The website value is: {}'''.format(language, framework, website)\n",
    "\n",
    "@app.route('/form-example', methods=['GET', 'POST']) #allow both GET and POST requests\n",
    "def form_example():\n",
    "    if request.method == 'POST':  #this block is only entered when the form is submitted\n",
    "        language = request.form.get('language')\n",
    "        framework = request.form['framework']\n",
    "\n",
    "        return '''<h1>The language value is: {}</h1>\n",
    "                  <h1>The framework value is: {}</h1>'''.format(language, framework)\n",
    "\n",
    "    return '''<form method=\"POST\">\n",
    "                  Language: <input type=\"text\" name=\"language\"><br>\n",
    "                  Framework: <input type=\"text\" name=\"framework\"><br>\n",
    "                  <input type=\"submit\" value=\"Submit\"><br>\n",
    "              </form>'''\n",
    "\n",
    "@app.route('/json-example', methods=['POST']) #GET requests will be blocked\n",
    "def json_example():\n",
    "    req_data = request.get_json()\n",
    "\n",
    "    language = req_data['language']\n",
    "    framework = req_data['framework']\n",
    "    python_version = req_data['version_info']['python'] #two keys are needed because of the nested object\n",
    "    example = req_data['examples'][0] #an index is needed because of the array\n",
    "    boolean_test = req_data['boolean_test']\n",
    "\n",
    "    return '''\n",
    "           The language value is: {}\n",
    "           The framework value is: {}\n",
    "           The Python version is: {}\n",
    "           The item at index 0 in the example list is: {}\n",
    "           The boolean value is: {}'''.format(language, framework, python_version, example, boolean_test)\n",
    "\n",
    "if __name__ == '__main__':\n",
    "    app.run(debug=False, port=5000)\n",
    "    \n",
    "\n",
    "    \n",
    "#http://127.0.0.1:5000/query-example?language=Python&framework=Flask\n",
    "\n",
    "    \n",
    "    \n",
    "# {\n",
    "#     \"language\" : \"Python\",\n",
    "#     \"framework\" : \"Flask\",\n",
    "#     \"website\" : \"Scotch\",\n",
    "#     \"version_info\" : {\n",
    "#         \"python\" : 3.4,\n",
    "#         \"flask\" : 0.12\n",
    "#     },\n",
    "#     \"examples\" : [\"query\", \"form\", \"json\"],\n",
    "#     \"boolean_test\" : true\n",
    "# }\n",
    "\n",
    "\n",
    "\n"
   ]
  },
  {
   "cell_type": "code",
   "execution_count": null,
   "metadata": {},
   "outputs": [],
   "source": []
  }
 ],
 "metadata": {
  "kernelspec": {
   "display_name": "Python 3",
   "language": "python",
   "name": "python3"
  },
  "language_info": {
   "codemirror_mode": {
    "name": "ipython",
    "version": 3
   },
   "file_extension": ".py",
   "mimetype": "text/x-python",
   "name": "python",
   "nbconvert_exporter": "python",
   "pygments_lexer": "ipython3",
   "version": "3.7.3"
  }
 },
 "nbformat": 4,
 "nbformat_minor": 2
}
